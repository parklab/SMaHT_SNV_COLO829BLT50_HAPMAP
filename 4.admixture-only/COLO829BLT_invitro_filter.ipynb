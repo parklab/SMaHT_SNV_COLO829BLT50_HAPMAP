{
 "cells": [
  {
   "cell_type": "markdown",
   "id": "6d175d24",
   "metadata": {},
   "source": [
    "# Filter initial COLO829BLT in-vitro variants. Filter out variants present in COLO829T and COLO8BLT (Illumina and PacBio). COLO829BL-specific variants to save in a VCF file. "
   ]
  },
  {
   "cell_type": "code",
   "execution_count": 2,
   "id": "616a3d62",
   "metadata": {},
   "outputs": [],
   "source": [
    "from granite.lib import vcf_parser\n",
    "\n",
    "def load_variants(vcf):\n",
    "    vcf_obj = vcf_parser.Vcf(vcf)\n",
    "    variants = []\n",
    "    for vnt in vcf_obj.parse_variants():\n",
    "        if vnt.ALT in [\"T\",\"C\", \"G\", \"A\"]:\n",
    "            variants.append(f\"{vnt.CHROM}_{vnt.POS}_{vnt.REF}_{vnt.ALT}\")\n",
    "    return set(variants)\n"
   ]
  },
  {
   "cell_type": "code",
   "execution_count": 3,
   "id": "8cd2dea0",
   "metadata": {},
   "outputs": [],
   "source": [
    "ways = [\"1\", \"2\", \"3\", \"4\", \"5\"]\n",
    "with open(f\"/n/data1/hms/dbmi/park/jiny/SMaHT/COLO829/invitro_variants/Utah_Steph_analysis//BL_only/COLO829BLT.BLonly.vcf.gz\", \"w\") as blonly_vcf:\n",
    "    with open(f\"/n/data1/hms/dbmi/park/jiny/SMaHT/COLO829/invitro_variants/Utah_Steph_analysis//in-vitro-final/COLO829BLT.finalInVitro.vcf.gz\", \"w\") as invitrofinal_vcf: \n",
    "        for way in ways:\n",
    "\n",
    "            colo829_invitro_variants_vcf = vcf_parser.Vcf(f\"/n/data1/hms/dbmi/park/jiny/SMaHT/COLO829/invitro_variants/Utah_Steph_analysis/input/masked_blt50.2read_cutoff.way_{way}.vcf.gz\")\n",
    "            colo829_invitro_validated = load_variants(f\"/n/data1/hms/dbmi/park/jiny/SMaHT/COLO829/invitro_variants/Utah_Steph_analysis/input/masked_blt50.2read_cutoff.way_{way}.vcf.gz\")\n",
    "            negative_control_overlap = load_variants(f\"/n/data1/hms/dbmi/park/jiny/SMaHT/COLO829/invitro_variants/Utah_Steph_analysis/analysis/intersect_negativecontrol/after_update_Sep21/masked_blt50.2read_cutoff.way_{way}.intersectnc.vcf\")\n",
    "            \n",
    "            pu_vcf = vcf_parser.Vcf(f\"/n/data1/hms/dbmi/park/jiny/SMaHT/COLO829/invitro_variants/Utah_Steph_analysis/PU_norm/masked_blt50.2read_cutoff.way_{way}.PU.norm.vcf\")\n",
    "\n",
    "            if way == \"1\":\n",
    "                colo829_invitro_variants_vcf.write_header(blonly_vcf)\n",
    "                colo829_invitro_variants_vcf.write_header(invitrofinal_vcf)\n",
    "\n",
    "            COLO829BL_illumina = \"/n/data1/hms/dbmi/park/jiny/SMaHT/COLO829/TruthSet/input/merge_three_bams/COLO829BL_Ill_230X.bam\"\n",
    "            COLO829BL_pacbio = \"/n/data1/hms/dbmi/park/jiny/SMaHT/COLO829/truthset_updated/bams/COLO829BL_Hifi.bam\"\n",
    "\n",
    "            COLO829T_illumina = \"/n/data1/hms/dbmi/park/jiny/SMaHT/COLO829/TruthSet/input/merge_three_bams/COLO829T_Ill_200X.bam\"\n",
    "            COLO829T_pacbio = \"/n/data1/hms/dbmi/park/jiny/SMaHT/COLO829/truthset_updated/bams/COLO829T_Hifi.bam\"\n",
    "\n",
    "            pu_variants = []\n",
    "            bl_only = []\n",
    "            \n",
    "            for vnt in pu_vcf.parse_variants():\n",
    "                \n",
    "                vnt_id = f\"{vnt.CHROM}_{vnt.POS}_{vnt.REF}_{vnt.ALT}\"\n",
    "                \n",
    "                if vnt_id in colo829_invitro_validated:\n",
    "\n",
    "                    genotypes = pu_vcf.header.IDs_genotypes\n",
    "\n",
    "\n",
    "                    PacBio_AD = int(vnt.get_genotype_value(COLO829BL_pacbio, \"AD\").split(\",\")[-1])\n",
    "                    Illumina_AD =  int(vnt.get_genotype_value(COLO829BL_illumina, \"AD\").split(\",\")[-1])\n",
    "\n",
    "                    COLO829T_pacbio_ad = int(vnt.get_genotype_value(COLO829T_pacbio, \"AD\").split(\",\")[-1])\n",
    "                    COLO829T_illumina_ad = int(vnt.get_genotype_value(COLO829T_illumina, \"AD\").split(\",\")[-1])\n",
    "\n",
    "                \n",
    "                    if PacBio_AD > 0 or Illumina_AD > 0 or  COLO829T_illumina_ad > 0 or COLO829T_pacbio_ad > 0:\n",
    "                        pu_variants.append(vnt_id)\n",
    "                    \n",
    "                    if (PacBio_AD > 0 or Illumina_AD > 0 ) and  (COLO829T_illumina_ad == 0 and COLO829T_pacbio_ad == 0):\n",
    "                        bl_only.append(vnt_id)\n",
    "\n",
    "            colo829_invitro_variants_vcf = vcf_parser.Vcf(f\"/n/data1/hms/dbmi/park/jiny/SMaHT/COLO829/invitro_variants/Utah_Steph_analysis/input/masked_blt50.2read_cutoff.way_{way}.vcf.gz\")\n",
    "            final_invitro =  (colo829_invitro_validated - set(pu_variants)) & set(negative_control_overlap)\n",
    "            \n",
    "                \n",
    "\n",
    "            for vnt in colo829_invitro_variants_vcf.parse_variants():\n",
    "                vnt_id = f\"{vnt.CHROM}_{vnt.POS}_{vnt.REF}_{vnt.ALT}\"\n",
    "                if vnt_id in bl_only:\n",
    "                    colo829_invitro_variants_vcf.write_variant(blonly_vcf, vnt)\n",
    "                if vnt_id in final_invitro:\n",
    "                    vnt.add_tag_info(f\"GCCSup={way}\")\n",
    "                    colo829_invitro_variants_vcf.write_variant(invitrofinal_vcf, vnt)\n"
   ]
  }
 ],
 "metadata": {
  "kernelspec": {
   "display_name": "Python 3",
   "language": "python",
   "name": "python3"
  },
  "language_info": {
   "codemirror_mode": {
    "name": "ipython",
    "version": 3
   },
   "file_extension": ".py",
   "mimetype": "text/x-python",
   "name": "python",
   "nbconvert_exporter": "python",
   "pygments_lexer": "ipython3",
   "version": "3.12.3"
  }
 },
 "nbformat": 4,
 "nbformat_minor": 5
}
